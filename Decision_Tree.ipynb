{
 "cells": [
  {
   "cell_type": "code",
   "execution_count": 1,
   "id": "199f61b4",
   "metadata": {},
   "outputs": [],
   "source": [
    "import pandas as pd\n",
    "import numpy as np"
   ]
  },
  {
   "cell_type": "code",
   "execution_count": 4,
   "id": "f62a2b20",
   "metadata": {},
   "outputs": [
    {
     "data": {
      "text/html": [
       "<div>\n",
       "<style scoped>\n",
       "    .dataframe tbody tr th:only-of-type {\n",
       "        vertical-align: middle;\n",
       "    }\n",
       "\n",
       "    .dataframe tbody tr th {\n",
       "        vertical-align: top;\n",
       "    }\n",
       "\n",
       "    .dataframe thead th {\n",
       "        text-align: right;\n",
       "    }\n",
       "</style>\n",
       "<table border=\"1\" class=\"dataframe\">\n",
       "  <thead>\n",
       "    <tr style=\"text-align: right;\">\n",
       "      <th></th>\n",
       "      <th>PassengerId</th>\n",
       "      <th>Survived</th>\n",
       "      <th>Pclass</th>\n",
       "      <th>Name</th>\n",
       "      <th>Sex</th>\n",
       "      <th>Age</th>\n",
       "      <th>SibSp</th>\n",
       "      <th>Parch</th>\n",
       "      <th>Ticket</th>\n",
       "      <th>Fare</th>\n",
       "      <th>Cabin</th>\n",
       "      <th>Embarked</th>\n",
       "    </tr>\n",
       "  </thead>\n",
       "  <tbody>\n",
       "    <tr>\n",
       "      <th>0</th>\n",
       "      <td>1</td>\n",
       "      <td>0</td>\n",
       "      <td>3</td>\n",
       "      <td>Braund, Mr. Owen Harris</td>\n",
       "      <td>male</td>\n",
       "      <td>22.0</td>\n",
       "      <td>1</td>\n",
       "      <td>0</td>\n",
       "      <td>A/5 21171</td>\n",
       "      <td>7.2500</td>\n",
       "      <td>NaN</td>\n",
       "      <td>S</td>\n",
       "    </tr>\n",
       "    <tr>\n",
       "      <th>1</th>\n",
       "      <td>2</td>\n",
       "      <td>1</td>\n",
       "      <td>1</td>\n",
       "      <td>Cumings, Mrs. John Bradley (Florence Briggs Th...</td>\n",
       "      <td>female</td>\n",
       "      <td>38.0</td>\n",
       "      <td>1</td>\n",
       "      <td>0</td>\n",
       "      <td>PC 17599</td>\n",
       "      <td>71.2833</td>\n",
       "      <td>C85</td>\n",
       "      <td>C</td>\n",
       "    </tr>\n",
       "    <tr>\n",
       "      <th>2</th>\n",
       "      <td>3</td>\n",
       "      <td>1</td>\n",
       "      <td>3</td>\n",
       "      <td>Heikkinen, Miss. Laina</td>\n",
       "      <td>female</td>\n",
       "      <td>26.0</td>\n",
       "      <td>0</td>\n",
       "      <td>0</td>\n",
       "      <td>STON/O2. 3101282</td>\n",
       "      <td>7.9250</td>\n",
       "      <td>NaN</td>\n",
       "      <td>S</td>\n",
       "    </tr>\n",
       "    <tr>\n",
       "      <th>3</th>\n",
       "      <td>4</td>\n",
       "      <td>1</td>\n",
       "      <td>1</td>\n",
       "      <td>Futrelle, Mrs. Jacques Heath (Lily May Peel)</td>\n",
       "      <td>female</td>\n",
       "      <td>35.0</td>\n",
       "      <td>1</td>\n",
       "      <td>0</td>\n",
       "      <td>113803</td>\n",
       "      <td>53.1000</td>\n",
       "      <td>C123</td>\n",
       "      <td>S</td>\n",
       "    </tr>\n",
       "    <tr>\n",
       "      <th>4</th>\n",
       "      <td>5</td>\n",
       "      <td>0</td>\n",
       "      <td>3</td>\n",
       "      <td>Allen, Mr. William Henry</td>\n",
       "      <td>male</td>\n",
       "      <td>35.0</td>\n",
       "      <td>0</td>\n",
       "      <td>0</td>\n",
       "      <td>373450</td>\n",
       "      <td>8.0500</td>\n",
       "      <td>NaN</td>\n",
       "      <td>S</td>\n",
       "    </tr>\n",
       "    <tr>\n",
       "      <th>5</th>\n",
       "      <td>6</td>\n",
       "      <td>0</td>\n",
       "      <td>3</td>\n",
       "      <td>Moran, Mr. James</td>\n",
       "      <td>male</td>\n",
       "      <td>NaN</td>\n",
       "      <td>0</td>\n",
       "      <td>0</td>\n",
       "      <td>330877</td>\n",
       "      <td>8.4583</td>\n",
       "      <td>NaN</td>\n",
       "      <td>Q</td>\n",
       "    </tr>\n",
       "    <tr>\n",
       "      <th>6</th>\n",
       "      <td>7</td>\n",
       "      <td>0</td>\n",
       "      <td>1</td>\n",
       "      <td>McCarthy, Mr. Timothy J</td>\n",
       "      <td>male</td>\n",
       "      <td>54.0</td>\n",
       "      <td>0</td>\n",
       "      <td>0</td>\n",
       "      <td>17463</td>\n",
       "      <td>51.8625</td>\n",
       "      <td>E46</td>\n",
       "      <td>S</td>\n",
       "    </tr>\n",
       "    <tr>\n",
       "      <th>7</th>\n",
       "      <td>8</td>\n",
       "      <td>0</td>\n",
       "      <td>3</td>\n",
       "      <td>Palsson, Master. Gosta Leonard</td>\n",
       "      <td>male</td>\n",
       "      <td>2.0</td>\n",
       "      <td>3</td>\n",
       "      <td>1</td>\n",
       "      <td>349909</td>\n",
       "      <td>21.0750</td>\n",
       "      <td>NaN</td>\n",
       "      <td>S</td>\n",
       "    </tr>\n",
       "    <tr>\n",
       "      <th>8</th>\n",
       "      <td>9</td>\n",
       "      <td>1</td>\n",
       "      <td>3</td>\n",
       "      <td>Johnson, Mrs. Oscar W (Elisabeth Vilhelmina Berg)</td>\n",
       "      <td>female</td>\n",
       "      <td>27.0</td>\n",
       "      <td>0</td>\n",
       "      <td>2</td>\n",
       "      <td>347742</td>\n",
       "      <td>11.1333</td>\n",
       "      <td>NaN</td>\n",
       "      <td>S</td>\n",
       "    </tr>\n",
       "    <tr>\n",
       "      <th>9</th>\n",
       "      <td>10</td>\n",
       "      <td>1</td>\n",
       "      <td>2</td>\n",
       "      <td>Nasser, Mrs. Nicholas (Adele Achem)</td>\n",
       "      <td>female</td>\n",
       "      <td>14.0</td>\n",
       "      <td>1</td>\n",
       "      <td>0</td>\n",
       "      <td>237736</td>\n",
       "      <td>30.0708</td>\n",
       "      <td>NaN</td>\n",
       "      <td>C</td>\n",
       "    </tr>\n",
       "  </tbody>\n",
       "</table>\n",
       "</div>"
      ],
      "text/plain": [
       "   PassengerId  Survived  Pclass  \\\n",
       "0            1         0       3   \n",
       "1            2         1       1   \n",
       "2            3         1       3   \n",
       "3            4         1       1   \n",
       "4            5         0       3   \n",
       "5            6         0       3   \n",
       "6            7         0       1   \n",
       "7            8         0       3   \n",
       "8            9         1       3   \n",
       "9           10         1       2   \n",
       "\n",
       "                                                Name     Sex   Age  SibSp  \\\n",
       "0                            Braund, Mr. Owen Harris    male  22.0      1   \n",
       "1  Cumings, Mrs. John Bradley (Florence Briggs Th...  female  38.0      1   \n",
       "2                             Heikkinen, Miss. Laina  female  26.0      0   \n",
       "3       Futrelle, Mrs. Jacques Heath (Lily May Peel)  female  35.0      1   \n",
       "4                           Allen, Mr. William Henry    male  35.0      0   \n",
       "5                                   Moran, Mr. James    male   NaN      0   \n",
       "6                            McCarthy, Mr. Timothy J    male  54.0      0   \n",
       "7                     Palsson, Master. Gosta Leonard    male   2.0      3   \n",
       "8  Johnson, Mrs. Oscar W (Elisabeth Vilhelmina Berg)  female  27.0      0   \n",
       "9                Nasser, Mrs. Nicholas (Adele Achem)  female  14.0      1   \n",
       "\n",
       "   Parch            Ticket     Fare Cabin Embarked  \n",
       "0      0         A/5 21171   7.2500   NaN        S  \n",
       "1      0          PC 17599  71.2833   C85        C  \n",
       "2      0  STON/O2. 3101282   7.9250   NaN        S  \n",
       "3      0            113803  53.1000  C123        S  \n",
       "4      0            373450   8.0500   NaN        S  \n",
       "5      0            330877   8.4583   NaN        Q  \n",
       "6      0             17463  51.8625   E46        S  \n",
       "7      1            349909  21.0750   NaN        S  \n",
       "8      2            347742  11.1333   NaN        S  \n",
       "9      0            237736  30.0708   NaN        C  "
      ]
     },
     "execution_count": 4,
     "metadata": {},
     "output_type": "execute_result"
    }
   ],
   "source": [
    "df=pd.read_csv(\"/Users/premswaroop/Desktop/jupyter1/titanic.csv\")\n",
    "df.head(10)"
   ]
  },
  {
   "cell_type": "code",
   "execution_count": 5,
   "id": "01933bb9",
   "metadata": {},
   "outputs": [
    {
     "data": {
      "text/html": [
       "<div>\n",
       "<style scoped>\n",
       "    .dataframe tbody tr th:only-of-type {\n",
       "        vertical-align: middle;\n",
       "    }\n",
       "\n",
       "    .dataframe tbody tr th {\n",
       "        vertical-align: top;\n",
       "    }\n",
       "\n",
       "    .dataframe thead th {\n",
       "        text-align: right;\n",
       "    }\n",
       "</style>\n",
       "<table border=\"1\" class=\"dataframe\">\n",
       "  <thead>\n",
       "    <tr style=\"text-align: right;\">\n",
       "      <th></th>\n",
       "      <th>Survived</th>\n",
       "      <th>Pclass</th>\n",
       "      <th>Sex</th>\n",
       "      <th>Age</th>\n",
       "      <th>Fare</th>\n",
       "    </tr>\n",
       "  </thead>\n",
       "  <tbody>\n",
       "    <tr>\n",
       "      <th>0</th>\n",
       "      <td>0</td>\n",
       "      <td>3</td>\n",
       "      <td>male</td>\n",
       "      <td>22.0</td>\n",
       "      <td>7.2500</td>\n",
       "    </tr>\n",
       "    <tr>\n",
       "      <th>1</th>\n",
       "      <td>1</td>\n",
       "      <td>1</td>\n",
       "      <td>female</td>\n",
       "      <td>38.0</td>\n",
       "      <td>71.2833</td>\n",
       "    </tr>\n",
       "    <tr>\n",
       "      <th>2</th>\n",
       "      <td>1</td>\n",
       "      <td>3</td>\n",
       "      <td>female</td>\n",
       "      <td>26.0</td>\n",
       "      <td>7.9250</td>\n",
       "    </tr>\n",
       "    <tr>\n",
       "      <th>3</th>\n",
       "      <td>1</td>\n",
       "      <td>1</td>\n",
       "      <td>female</td>\n",
       "      <td>35.0</td>\n",
       "      <td>53.1000</td>\n",
       "    </tr>\n",
       "    <tr>\n",
       "      <th>4</th>\n",
       "      <td>0</td>\n",
       "      <td>3</td>\n",
       "      <td>male</td>\n",
       "      <td>35.0</td>\n",
       "      <td>8.0500</td>\n",
       "    </tr>\n",
       "  </tbody>\n",
       "</table>\n",
       "</div>"
      ],
      "text/plain": [
       "   Survived  Pclass     Sex   Age     Fare\n",
       "0         0       3    male  22.0   7.2500\n",
       "1         1       1  female  38.0  71.2833\n",
       "2         1       3  female  26.0   7.9250\n",
       "3         1       1  female  35.0  53.1000\n",
       "4         0       3    male  35.0   8.0500"
      ]
     },
     "execution_count": 5,
     "metadata": {},
     "output_type": "execute_result"
    }
   ],
   "source": [
    "#dropping columns of  no use\n",
    "df.drop(['PassengerId','Name','SibSp','Parch','Ticket','Cabin','Embarked'],axis='columns',inplace=True)\n",
    "df.head(5)"
   ]
  },
  {
   "cell_type": "code",
   "execution_count": 6,
   "id": "2b237e4b",
   "metadata": {},
   "outputs": [
    {
     "data": {
      "text/html": [
       "<div>\n",
       "<style scoped>\n",
       "    .dataframe tbody tr th:only-of-type {\n",
       "        vertical-align: middle;\n",
       "    }\n",
       "\n",
       "    .dataframe tbody tr th {\n",
       "        vertical-align: top;\n",
       "    }\n",
       "\n",
       "    .dataframe thead th {\n",
       "        text-align: right;\n",
       "    }\n",
       "</style>\n",
       "<table border=\"1\" class=\"dataframe\">\n",
       "  <thead>\n",
       "    <tr style=\"text-align: right;\">\n",
       "      <th></th>\n",
       "      <th>Survived</th>\n",
       "      <th>Pclass</th>\n",
       "      <th>Sex</th>\n",
       "      <th>Age</th>\n",
       "      <th>Fare</th>\n",
       "    </tr>\n",
       "  </thead>\n",
       "  <tbody>\n",
       "    <tr>\n",
       "      <th>0</th>\n",
       "      <td>0</td>\n",
       "      <td>3</td>\n",
       "      <td>1</td>\n",
       "      <td>22.0</td>\n",
       "      <td>7.2500</td>\n",
       "    </tr>\n",
       "    <tr>\n",
       "      <th>1</th>\n",
       "      <td>1</td>\n",
       "      <td>1</td>\n",
       "      <td>2</td>\n",
       "      <td>38.0</td>\n",
       "      <td>71.2833</td>\n",
       "    </tr>\n",
       "  </tbody>\n",
       "</table>\n",
       "</div>"
      ],
      "text/plain": [
       "   Survived  Pclass  Sex   Age     Fare\n",
       "0         0       3    1  22.0   7.2500\n",
       "1         1       1    2  38.0  71.2833"
      ]
     },
     "execution_count": 6,
     "metadata": {},
     "output_type": "execute_result"
    }
   ],
   "source": [
    "#changing characters to integers\n",
    "df[\"Sex\"]=df[\"Sex\"].map({'male':1,'female':2})\n",
    "df.head(2)"
   ]
  },
  {
   "cell_type": "code",
   "execution_count": 8,
   "id": "2e9c6ca6",
   "metadata": {},
   "outputs": [],
   "source": [
    "#assigning inputs and target\n",
    "inputs=df.drop(\"Survived\",axis='columns')\n",
    "target=df['Survived']"
   ]
  },
  {
   "cell_type": "code",
   "execution_count": 16,
   "id": "0bd83e48",
   "metadata": {
    "scrolled": true
   },
   "outputs": [
    {
     "data": {
      "text/html": [
       "<div>\n",
       "<style scoped>\n",
       "    .dataframe tbody tr th:only-of-type {\n",
       "        vertical-align: middle;\n",
       "    }\n",
       "\n",
       "    .dataframe tbody tr th {\n",
       "        vertical-align: top;\n",
       "    }\n",
       "\n",
       "    .dataframe thead th {\n",
       "        text-align: right;\n",
       "    }\n",
       "</style>\n",
       "<table border=\"1\" class=\"dataframe\">\n",
       "  <thead>\n",
       "    <tr style=\"text-align: right;\">\n",
       "      <th></th>\n",
       "      <th>Pclass</th>\n",
       "      <th>Sex</th>\n",
       "      <th>Age</th>\n",
       "      <th>Fare</th>\n",
       "    </tr>\n",
       "  </thead>\n",
       "  <tbody>\n",
       "    <tr>\n",
       "      <th>0</th>\n",
       "      <td>3</td>\n",
       "      <td>1</td>\n",
       "      <td>22.0</td>\n",
       "      <td>7.2500</td>\n",
       "    </tr>\n",
       "    <tr>\n",
       "      <th>1</th>\n",
       "      <td>1</td>\n",
       "      <td>2</td>\n",
       "      <td>38.0</td>\n",
       "      <td>71.2833</td>\n",
       "    </tr>\n",
       "    <tr>\n",
       "      <th>2</th>\n",
       "      <td>3</td>\n",
       "      <td>2</td>\n",
       "      <td>26.0</td>\n",
       "      <td>7.9250</td>\n",
       "    </tr>\n",
       "    <tr>\n",
       "      <th>3</th>\n",
       "      <td>1</td>\n",
       "      <td>2</td>\n",
       "      <td>35.0</td>\n",
       "      <td>53.1000</td>\n",
       "    </tr>\n",
       "    <tr>\n",
       "      <th>4</th>\n",
       "      <td>3</td>\n",
       "      <td>1</td>\n",
       "      <td>35.0</td>\n",
       "      <td>8.0500</td>\n",
       "    </tr>\n",
       "  </tbody>\n",
       "</table>\n",
       "</div>"
      ],
      "text/plain": [
       "   Pclass  Sex   Age     Fare\n",
       "0       3    1  22.0   7.2500\n",
       "1       1    2  38.0  71.2833\n",
       "2       3    2  26.0   7.9250\n",
       "3       1    2  35.0  53.1000\n",
       "4       3    1  35.0   8.0500"
      ]
     },
     "execution_count": 16,
     "metadata": {},
     "output_type": "execute_result"
    }
   ],
   "source": [
    "inputs.head()"
   ]
  },
  {
   "cell_type": "code",
   "execution_count": 17,
   "id": "0c878338",
   "metadata": {},
   "outputs": [
    {
     "data": {
      "text/plain": [
       "0    0\n",
       "1    1\n",
       "2    1\n",
       "3    1\n",
       "4    0\n",
       "Name: Survived, dtype: int64"
      ]
     },
     "execution_count": 17,
     "metadata": {},
     "output_type": "execute_result"
    }
   ],
   "source": [
    "target.head()"
   ]
  },
  {
   "cell_type": "code",
   "execution_count": 9,
   "id": "28a1d520",
   "metadata": {},
   "outputs": [
    {
     "data": {
      "text/plain": [
       "Survived      0\n",
       "Pclass        0\n",
       "Sex           0\n",
       "Age         177\n",
       "Fare          0\n",
       "dtype: int64"
      ]
     },
     "execution_count": 9,
     "metadata": {},
     "output_type": "execute_result"
    }
   ],
   "source": [
    "#let's check number of null values in the columns\n",
    "df.isna().sum()"
   ]
  },
  {
   "cell_type": "code",
   "execution_count": 10,
   "id": "b38b166d",
   "metadata": {},
   "outputs": [
    {
     "data": {
      "text/plain": [
       "(891, 5)"
      ]
     },
     "execution_count": 10,
     "metadata": {},
     "output_type": "execute_result"
    }
   ],
   "source": [
    "df.shape"
   ]
  },
  {
   "cell_type": "code",
   "execution_count": 18,
   "id": "eb0103c6",
   "metadata": {},
   "outputs": [],
   "source": [
    "#we can not simply drop the missing values in age \n",
    "#because out of 891 rows we have missing values in 177 of them\n",
    "#by dropping them we will losse a large part of our data \n",
    "#let's fill the NULL values with the mean of age column"
   ]
  },
  {
   "cell_type": "code",
   "execution_count": 19,
   "id": "04714927",
   "metadata": {},
   "outputs": [
    {
     "data": {
      "text/html": [
       "<div>\n",
       "<style scoped>\n",
       "    .dataframe tbody tr th:only-of-type {\n",
       "        vertical-align: middle;\n",
       "    }\n",
       "\n",
       "    .dataframe tbody tr th {\n",
       "        vertical-align: top;\n",
       "    }\n",
       "\n",
       "    .dataframe thead th {\n",
       "        text-align: right;\n",
       "    }\n",
       "</style>\n",
       "<table border=\"1\" class=\"dataframe\">\n",
       "  <thead>\n",
       "    <tr style=\"text-align: right;\">\n",
       "      <th></th>\n",
       "      <th>Pclass</th>\n",
       "      <th>Sex</th>\n",
       "      <th>Age</th>\n",
       "      <th>Fare</th>\n",
       "    </tr>\n",
       "  </thead>\n",
       "  <tbody>\n",
       "    <tr>\n",
       "      <th>0</th>\n",
       "      <td>3</td>\n",
       "      <td>1</td>\n",
       "      <td>22.000000</td>\n",
       "      <td>7.2500</td>\n",
       "    </tr>\n",
       "    <tr>\n",
       "      <th>1</th>\n",
       "      <td>1</td>\n",
       "      <td>2</td>\n",
       "      <td>38.000000</td>\n",
       "      <td>71.2833</td>\n",
       "    </tr>\n",
       "    <tr>\n",
       "      <th>2</th>\n",
       "      <td>3</td>\n",
       "      <td>2</td>\n",
       "      <td>26.000000</td>\n",
       "      <td>7.9250</td>\n",
       "    </tr>\n",
       "    <tr>\n",
       "      <th>3</th>\n",
       "      <td>1</td>\n",
       "      <td>2</td>\n",
       "      <td>35.000000</td>\n",
       "      <td>53.1000</td>\n",
       "    </tr>\n",
       "    <tr>\n",
       "      <th>4</th>\n",
       "      <td>3</td>\n",
       "      <td>1</td>\n",
       "      <td>35.000000</td>\n",
       "      <td>8.0500</td>\n",
       "    </tr>\n",
       "    <tr>\n",
       "      <th>5</th>\n",
       "      <td>3</td>\n",
       "      <td>1</td>\n",
       "      <td>29.699118</td>\n",
       "      <td>8.4583</td>\n",
       "    </tr>\n",
       "    <tr>\n",
       "      <th>6</th>\n",
       "      <td>1</td>\n",
       "      <td>1</td>\n",
       "      <td>54.000000</td>\n",
       "      <td>51.8625</td>\n",
       "    </tr>\n",
       "    <tr>\n",
       "      <th>7</th>\n",
       "      <td>3</td>\n",
       "      <td>1</td>\n",
       "      <td>2.000000</td>\n",
       "      <td>21.0750</td>\n",
       "    </tr>\n",
       "    <tr>\n",
       "      <th>8</th>\n",
       "      <td>3</td>\n",
       "      <td>2</td>\n",
       "      <td>27.000000</td>\n",
       "      <td>11.1333</td>\n",
       "    </tr>\n",
       "    <tr>\n",
       "      <th>9</th>\n",
       "      <td>2</td>\n",
       "      <td>2</td>\n",
       "      <td>14.000000</td>\n",
       "      <td>30.0708</td>\n",
       "    </tr>\n",
       "  </tbody>\n",
       "</table>\n",
       "</div>"
      ],
      "text/plain": [
       "   Pclass  Sex        Age     Fare\n",
       "0       3    1  22.000000   7.2500\n",
       "1       1    2  38.000000  71.2833\n",
       "2       3    2  26.000000   7.9250\n",
       "3       1    2  35.000000  53.1000\n",
       "4       3    1  35.000000   8.0500\n",
       "5       3    1  29.699118   8.4583\n",
       "6       1    1  54.000000  51.8625\n",
       "7       3    1   2.000000  21.0750\n",
       "8       3    2  27.000000  11.1333\n",
       "9       2    2  14.000000  30.0708"
      ]
     },
     "execution_count": 19,
     "metadata": {},
     "output_type": "execute_result"
    }
   ],
   "source": [
    "inputs['Age']=inputs['Age'].fillna(inputs['Age'].mean())\n",
    "inputs.head(10)"
   ]
  },
  {
   "cell_type": "code",
   "execution_count": 21,
   "id": "fd99e79f",
   "metadata": {},
   "outputs": [
    {
     "data": {
      "text/plain": [
       "Pclass    0\n",
       "Sex       0\n",
       "Age       0\n",
       "Fare      0\n",
       "dtype: int64"
      ]
     },
     "execution_count": 21,
     "metadata": {},
     "output_type": "execute_result"
    }
   ],
   "source": [
    "#we have successfully replaced null values with the mean\n",
    "inputs.isna().sum()"
   ]
  },
  {
   "cell_type": "code",
   "execution_count": 34,
   "id": "bbb33240",
   "metadata": {},
   "outputs": [],
   "source": [
    "from sklearn.model_selection import train_test_split\n",
    "X_train, X_test, y_train, y_test = train_test_split(inputs,target,test_size=0.2)"
   ]
  },
  {
   "cell_type": "code",
   "execution_count": 35,
   "id": "cab10c96",
   "metadata": {},
   "outputs": [
    {
     "data": {
      "text/plain": [
       "712"
      ]
     },
     "execution_count": 35,
     "metadata": {},
     "output_type": "execute_result"
    }
   ],
   "source": [
    "len(X_train)"
   ]
  },
  {
   "cell_type": "code",
   "execution_count": 36,
   "id": "931f0a15",
   "metadata": {},
   "outputs": [
    {
     "data": {
      "text/plain": [
       "179"
      ]
     },
     "execution_count": 36,
     "metadata": {},
     "output_type": "execute_result"
    }
   ],
   "source": [
    "len(X_test)"
   ]
  },
  {
   "cell_type": "code",
   "execution_count": 37,
   "id": "f2cfb34d",
   "metadata": {},
   "outputs": [],
   "source": [
    "from sklearn.preprocessing import StandardScaler"
   ]
  },
  {
   "cell_type": "code",
   "execution_count": 38,
   "id": "d164ca92",
   "metadata": {},
   "outputs": [],
   "source": [
    "#using feature transformation\n",
    "#applying standard scaler seperately for both train and test data\n",
    "#in order to avoid overfitting we do it seperately\n",
    "scaler=StandardScaler()\n",
    "X_train_scaled=scaler.fit_transform(X_train)"
   ]
  },
  {
   "cell_type": "code",
   "execution_count": 39,
   "id": "661c185e",
   "metadata": {
    "scrolled": true
   },
   "outputs": [
    {
     "data": {
      "text/plain": [
       "array([[-1.56298327,  1.33463478,  0.73355805,  0.4498877 ],\n",
       "       [-0.36637672, -0.74926865,  1.65916597, -0.39084985],\n",
       "       [ 0.83022982,  1.33463478, -1.1947918 , -0.48138395],\n",
       "       ...,\n",
       "       [ 0.83022982, -0.74926865, -0.26918387, -0.26946382],\n",
       "       [-1.56298327, -0.74926865,  1.35063   , -0.13765943],\n",
       "       [-1.56298327, -0.74926865,  1.42776399, -0.1190033 ]])"
      ]
     },
     "execution_count": 39,
     "metadata": {},
     "output_type": "execute_result"
    }
   ],
   "source": [
    "X_train_scaled"
   ]
  },
  {
   "cell_type": "code",
   "execution_count": 40,
   "id": "bdff78ca",
   "metadata": {},
   "outputs": [
    {
     "data": {
      "text/plain": [
       "array([[ 0.83022982, -0.74926865,  2.43050591, -0.51272045],\n",
       "       [ 0.83022982, -0.74926865,  0.01614384, -0.48291909],\n",
       "       [ 0.83022982, -0.74926865, -0.57771985, -0.49309516],\n",
       "       [ 0.83022982,  1.33463478,  0.01614384, -0.48340366],\n",
       "       [-1.56298327, -0.74926865,  0.34788808, -0.1190033 ],\n",
       "       [-1.56298327, -0.74926865,  2.66190789,  4.46410664],\n",
       "       [-1.56298327, -0.74926865,  2.43050591,  0.01570854],\n",
       "       [-1.56298327,  1.33463478, -0.57771985,  0.432443  ],\n",
       "       [ 0.83022982, -0.74926865, -0.96338982, -0.49689035],\n",
       "       [ 0.83022982, -0.74926865,  1.19636201, -0.49842549],\n",
       "       [ 0.83022982, -0.74926865,  0.01614384, -0.24660739],\n",
       "       [ 0.83022982, -0.74926865,  0.01614384, -0.47637733],\n",
       "       [ 0.83022982, -0.74926865, -0.42345186, -0.44948342],\n",
       "       [ 0.83022982, -0.74926865,  3.16327885, -0.48340366],\n",
       "       [ 0.83022982,  1.33463478,  0.88782603,  0.13564084],\n",
       "       [ 0.83022982,  1.33463478, -0.26918387, -0.48001164],\n",
       "       [ 0.83022982,  1.33463478, -2.12039972, -0.39545331],\n",
       "       [ 0.83022982,  1.33463478, -1.65759576, -0.22512521],\n",
       "       [-1.56298327,  1.33463478,  0.01614384,  1.09348465],\n",
       "       [-1.56298327,  1.33463478,  0.0393521 ,  1.17868844],\n",
       "       [ 0.83022982, -0.74926865,  0.27075408, -0.46587756],\n",
       "       [-1.56298327, -0.74926865,  0.01614384,  0.05447454],\n",
       "       [-0.36637672,  1.33463478, -0.11491589, -0.12966394],\n",
       "       [-0.36637672, -0.74926865, -0.42345186, -0.43010042],\n",
       "       [-1.56298327, -0.74926865, -0.57771985,  1.99535812],\n",
       "       [ 0.83022982, -0.74926865,  0.01614384,  0.71446563],\n",
       "       [ 0.83022982,  1.33463478, -1.58046177, -0.33811258],\n",
       "       [-1.56298327, -0.74926865,  0.27075408, -0.53670691],\n",
       "       [ 0.83022982, -0.74926865,  0.65642405, -0.49697176],\n",
       "       [ 0.83022982, -0.74926865,  0.19362009, -0.48001164],\n",
       "       [-1.56298327, -0.74926865,  0.96496003, -0.12409133],\n",
       "       [ 0.83022982, -0.74926865,  0.01614384, -0.48057762],\n",
       "       [-0.36637672, -0.74926865,  1.89056795, -0.12966394],\n",
       "       [ 0.83022982, -0.74926865, -2.12039972, -0.06909207],\n",
       "       [ 0.83022982, -0.74926865,  0.01614384, -0.49349833],\n",
       "       [-1.56298327, -0.74926865,  1.42776399,  0.37429401],\n",
       "       [-1.56298327,  1.33463478,  0.19362009,  0.84513999],\n",
       "       [ 0.83022982, -0.74926865,  0.84925904, -0.48340366],\n",
       "       [-1.56298327,  1.33463478,  0.73355805,  1.51562891],\n",
       "       [-1.56298327,  1.33463478,  0.01614384,  0.432443  ],\n",
       "       [ 0.83022982, -0.74926865, -0.80912183, -0.50278666],\n",
       "       [ 0.83022982, -0.74926865,  0.01614384, -0.33811258],\n",
       "       [ 0.83022982, -0.74926865,  0.19362009, -0.48001164],\n",
       "       [-0.36637672,  1.33463478,  1.89056795, -0.18781294],\n",
       "       [ 0.83022982, -0.74926865,  0.34788808, -0.35450672],\n",
       "       [ 0.83022982, -0.74926865, -0.38488486, -0.47758876],\n",
       "       [ 0.83022982, -0.74926865, -0.57771985, -0.48057762],\n",
       "       [ 0.83022982,  1.33463478, -0.65485384, -0.48534196],\n",
       "       [-0.36637672,  1.33463478, -0.26918387, -0.12966394],\n",
       "       [ 0.83022982, -0.74926865, -0.57771985, -0.48784625],\n",
       "       [-1.56298327, -0.74926865,  2.73904188,  0.56772083],\n",
       "       [ 0.83022982, -0.74926865,  0.01614384, -0.49697176],\n",
       "       [-0.36637672, -0.74926865,  0.73355805, -0.38164292],\n",
       "       [-1.56298327,  1.33463478, -0.42345186,  0.32591792],\n",
       "       [ 0.83022982, -0.74926865, -1.58046177,  0.27544072],\n",
       "       [ 0.83022982, -0.74926865,  0.50215606, -0.48057762],\n",
       "       [ 0.83022982, -0.74926865,  1.04209402, -0.50860156],\n",
       "       [-0.36637672, -0.74926865, -0.65485384,  0.79102847],\n",
       "       [-1.56298327, -0.74926865, -1.96613174,  0.95303739],\n",
       "       [ 0.83022982,  1.33463478,  0.1164861 , -0.48138395],\n",
       "       [-0.36637672,  1.33463478, -0.42345186, -0.38164292],\n",
       "       [-0.36637672, -0.74926865, -0.88625582, -0.41071742],\n",
       "       [ 0.83022982,  1.33463478,  0.01614384, -0.33318543],\n",
       "       [ 0.83022982, -0.74926865, -0.80912183, -0.4364813 ],\n",
       "       [ 0.83022982, -0.74926865, -0.80912183, -0.48291909],\n",
       "       [-1.56298327, -0.74926865,  0.50215606, -0.12215303],\n",
       "       [ 0.83022982, -0.74926865,  0.01614384, -0.46967468],\n",
       "       [-1.56298327, -0.74926865,  0.19362009, -0.04244045],\n",
       "       [-0.36637672, -0.74926865,  0.01614384, -0.6336219 ],\n",
       "       [-0.36637672,  1.33463478,  0.19362009, -0.38164292],\n",
       "       [ 0.83022982, -0.74926865, -0.50058585, -0.48057762],\n",
       "       [ 0.83022982,  1.33463478,  0.1164861 , -0.28472793],\n",
       "       [ 0.83022982, -0.74926865,  0.01614384, -0.48340366],\n",
       "       [ 0.83022982,  1.33463478,  0.01614384, -0.48186853],\n",
       "       [ 0.83022982, -0.74926865,  0.0393521 , -0.47758876],\n",
       "       [-0.36637672,  1.33463478, -0.42345186, -0.35256842],\n",
       "       [ 0.83022982, -0.74926865, -0.80912183, -0.48534196],\n",
       "       [ 0.83022982,  1.33463478,  0.01614384, -0.47589275],\n",
       "       [ 0.83022982, -0.74926865,  2.73904188, -0.48340366],\n",
       "       [-1.56298327, -0.74926865,  0.65642405,  1.11084794],\n",
       "       [ 0.83022982, -0.74926865, -0.73198784, -0.48001164],\n",
       "       [-0.36637672, -0.74926865,  0.0393521 , -0.16842994],\n",
       "       [-1.56298327,  1.33463478,  0.27075408,  1.04300745],\n",
       "       [-0.36637672,  1.33463478, -0.19204988, -0.43010042],\n",
       "       [ 0.83022982,  1.33463478,  0.0393521 , -0.16552249],\n",
       "       [ 0.83022982,  1.33463478, -1.88899774, -0.2603383 ],\n",
       "       [ 0.83022982, -0.74926865,  0.01614384, -0.48364595],\n",
       "       [-0.36637672,  1.33463478, -0.03778189, -0.12966394],\n",
       "       [ 0.83022982, -0.74926865, -0.57771985, -0.49357974],\n",
       "       [ 0.83022982, -0.74926865, -0.65485384, -0.47015926],\n",
       "       [ 0.83022982, -0.74926865,  0.27075408, -0.48057762],\n",
       "       [-1.56298327, -0.74926865, -0.65485384,  0.86444158],\n",
       "       [-0.36637672, -0.74926865,  0.1164861 ,  0.08363045],\n",
       "       [-1.56298327, -0.74926865,  1.35063   ,  0.02580321],\n",
       "       [-0.36637672, -0.74926865,  1.73629996, -0.37195142],\n",
       "       [-0.36637672, -0.74926865, -1.04052381, -0.12966394],\n",
       "       [ 0.83022982, -0.74926865, -1.04052381, -0.45497462],\n",
       "       [ 0.83022982, -0.74926865,  0.96496003, -0.48534196],\n",
       "       [-0.36637672, -0.74926865,  0.54072306, -0.12966394],\n",
       "       [ 0.83022982,  1.33463478, -1.11765781, -0.47799193],\n",
       "       [-1.56298327, -0.74926865,  0.42502207, -0.1190033 ],\n",
       "       [ 0.83022982, -0.74926865, -0.11491589, -0.32640138],\n",
       "       [ 0.83022982,  1.33463478, -0.03778189, -0.33811258],\n",
       "       [ 0.83022982,  1.33463478, -1.04052381, -0.48372736],\n",
       "       [-0.36637672,  1.33463478,  0.42502207, -0.22657894],\n",
       "       [ 0.83022982, -0.74926865,  0.50215606, -0.6336219 ],\n",
       "       [ 0.83022982, -0.74926865,  0.19362009,  0.46143609],\n",
       "       [-1.56298327, -0.74926865,  1.273496  ,  0.90151156],\n",
       "       [ 0.83022982,  1.33463478,  2.5847739 , -0.4477874 ],\n",
       "       [ 0.83022982,  1.33463478,  0.01614384, -0.17909059],\n",
       "       [ 0.83022982, -0.74926865, -0.80912183, -0.48057762],\n",
       "       [-0.36637672, -0.74926865,  0.01614384, -0.6336219 ],\n",
       "       [ 0.83022982, -0.74926865,  0.01614384, -0.48388824],\n",
       "       [-0.36637672, -0.74926865,  0.27075408, -0.3956956 ],\n",
       "       [ 0.83022982, -0.74926865, -0.11491589,  0.46143609],\n",
       "       [-1.56298327, -0.74926865, -2.20370444,  2.30387149],\n",
       "       [ 0.83022982,  1.33463478, -1.27192579, -0.49349833],\n",
       "       [ 0.83022982, -0.74926865,  1.11922801, -0.32155563],\n",
       "       [ 0.83022982,  1.33463478, -1.11765781, -0.49357974],\n",
       "       [-1.56298327, -0.74926865, -0.19204988, -0.04244045],\n",
       "       [ 0.83022982, -0.74926865, -0.57771985, -0.49551804],\n",
       "       [ 0.83022982, -0.74926865, -1.1947918 ,  0.13564084],\n",
       "       [-0.36637672, -0.74926865,  0.50215606, -0.3840658 ],\n",
       "       [ 0.83022982, -0.74926865,  0.01614384, -0.47758876],\n",
       "       [-1.56298327, -0.74926865,  0.01614384, -0.13111767],\n",
       "       [-1.56298327,  1.33463478, -2.12039972,  2.30387149],\n",
       "       [-0.36637672, -0.74926865,  0.73355805, -0.38164292],\n",
       "       [ 0.83022982,  1.33463478, -1.81186375, -0.02741863],\n",
       "       [ 0.83022982, -0.74926865, -1.04052381, -0.28472793],\n",
       "       [-1.56298327,  1.33463478,  0.73355805,  0.97823528],\n",
       "       [-1.56298327,  1.33463478,  0.65642405,  3.77649478],\n",
       "       [-1.56298327,  1.33463478,  0.81069204,  2.34094147],\n",
       "       [-1.56298327, -0.74926865,  2.04483594, -0.03864526],\n",
       "       [ 0.83022982, -0.74926865,  0.01614384, -0.34093863],\n",
       "       [-1.56298327, -0.74926865,  0.57929006,  0.38503607],\n",
       "       [-1.56298327,  1.33463478,  1.35063   ,  0.38503607],\n",
       "       [ 0.83022982, -0.74926865, -1.73472976,  0.13564084],\n",
       "       [-0.36637672, -0.74926865, -2.22298794, -0.35256842],\n",
       "       [ 0.83022982, -0.74926865,  0.27075408, -0.48057762],\n",
       "       [-0.36637672, -0.74926865, -0.34631787, -0.38164292],\n",
       "       [ 0.83022982, -0.74926865,  0.01614384,  0.71446563],\n",
       "       [ 0.83022982,  1.33463478,  0.01614384, -0.48340366],\n",
       "       [-0.36637672, -0.74926865,  3.12471185, -0.43010042],\n",
       "       [-1.56298327, -0.74926865,  0.65642405,  2.34094147],\n",
       "       [-1.56298327, -0.74926865,  0.01614384, -0.6336219 ],\n",
       "       [ 0.83022982,  1.33463478,  0.88782603, -0.24184305],\n",
       "       [-0.36637672, -0.74926865,  1.42776399, -0.38164292],\n",
       "       [-1.56298327,  1.33463478,  0.65642405,  0.74806218],\n",
       "       [ 0.83022982, -0.74926865,  0.0393521 , -0.49309516],\n",
       "       [-0.36637672, -0.74926865,  0.1164861 , -0.38164292],\n",
       "       [-0.36637672,  1.33463478, -0.96338982, -0.43010042],\n",
       "       [-1.56298327,  1.33463478,  1.73629996,  1.17868844],\n",
       "       [-0.36637672,  1.33463478,  0.65642405, -0.38164292],\n",
       "       [ 0.83022982, -0.74926865, -0.11491589, -0.48057762],\n",
       "       [ 0.83022982, -0.74926865,  0.01614384, -0.48186853],\n",
       "       [-1.56298327, -0.74926865,  0.73355805, -0.6336219 ],\n",
       "       [ 0.83022982,  1.33463478, -0.34631787, -0.48001164],\n",
       "       [ 0.83022982,  1.33463478, -0.42345186, -0.46208236],\n",
       "       [-0.36637672,  1.33463478, -0.42345186, -0.11028095],\n",
       "       [-1.56298327,  1.33463478, -0.26918387,  0.89472751],\n",
       "       [ 0.83022982, -0.74926865,  1.50489798, -0.6336219 ],\n",
       "       [-1.56298327,  1.33463478,  1.50489798,  0.85362005],\n",
       "       [ 0.83022982, -0.74926865,  0.01614384, -0.48057762],\n",
       "       [ 0.83022982, -0.74926865, -0.50058585, -0.45481374],\n",
       "       [-0.36637672, -0.74926865, -0.80912183, -0.38164292],\n",
       "       [ 0.83022982, -0.74926865,  0.01614384,  0.46143609],\n",
       "       [-0.36637672, -0.74926865,  1.89056795, -0.12966394],\n",
       "       [ 0.83022982, -0.74926865, -0.26918387, -0.23481671],\n",
       "       [ 0.83022982, -0.74926865, -0.73198784, -0.55584762],\n",
       "       [-0.36637672, -0.74926865,  0.34788808, -0.38164292],\n",
       "       [-1.56298327,  1.33463478,  1.04209402,  3.46273249],\n",
       "       [ 0.83022982, -0.74926865, -0.34631787, -0.48291909],\n",
       "       [ 0.83022982, -0.74926865,  0.01614384, -0.48340366],\n",
       "       [ 0.83022982,  1.33463478,  0.1164861 , -0.46531351],\n",
       "       [ 0.83022982, -0.74926865,  0.01614384, -0.49188372],\n",
       "       [ 0.83022982, -0.74926865, -0.73198784, -0.49349833],\n",
       "       [ 0.83022982, -0.74926865,  0.73355805, -0.02741863],\n",
       "       [-0.36637672,  1.33463478,  0.23218709, -0.38164292],\n",
       "       [ 0.83022982, -0.74926865, -0.19204988, -0.35345617]])"
      ]
     },
     "execution_count": 40,
     "metadata": {},
     "output_type": "execute_result"
    }
   ],
   "source": [
    "X_test_scaled=scaler.transform(X_test)\n",
    "X_test_scaled"
   ]
  },
  {
   "cell_type": "code",
   "execution_count": 41,
   "id": "73f62f79",
   "metadata": {},
   "outputs": [],
   "source": [
    "#applying desision tree classifier\n",
    "from sklearn import tree\n",
    "model = tree.DecisionTreeClassifier()"
   ]
  },
  {
   "cell_type": "code",
   "execution_count": 42,
   "id": "d8b65f4b",
   "metadata": {},
   "outputs": [
    {
     "data": {
      "text/plain": [
       "DecisionTreeClassifier()"
      ]
     },
     "execution_count": 42,
     "metadata": {},
     "output_type": "execute_result"
    }
   ],
   "source": [
    "model.fit(X_train_scaled,y_train)"
   ]
  },
  {
   "cell_type": "code",
   "execution_count": 44,
   "id": "9d8bf1fb",
   "metadata": {},
   "outputs": [
    {
     "data": {
      "text/plain": [
       "0.8100558659217877"
      ]
     },
     "execution_count": 44,
     "metadata": {},
     "output_type": "execute_result"
    }
   ],
   "source": [
    "model.score(X_test_scaled,y_test)"
   ]
  }
 ],
 "metadata": {
  "kernelspec": {
   "display_name": "Python 3 (ipykernel)",
   "language": "python",
   "name": "python3"
  },
  "language_info": {
   "codemirror_mode": {
    "name": "ipython",
    "version": 3
   },
   "file_extension": ".py",
   "mimetype": "text/x-python",
   "name": "python",
   "nbconvert_exporter": "python",
   "pygments_lexer": "ipython3",
   "version": "3.9.7"
  }
 },
 "nbformat": 4,
 "nbformat_minor": 5
}
